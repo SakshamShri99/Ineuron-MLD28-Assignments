{
 "cells": [
  {
   "cell_type": "markdown",
   "metadata": {},
   "source": [
    "### Q1.1"
   ]
  },
  {
   "cell_type": "code",
   "execution_count": 1,
   "metadata": {},
   "outputs": [
    {
     "name": "stdout",
     "output_type": "stream",
     "text": [
      "15\n"
     ]
    }
   ],
   "source": [
    "def myreduce(func,seq):\n",
    "    seq = [func(seq[:2])] + list(seq[2:])\n",
    "    if len(seq) == 1:\n",
    "        return seq[0]\n",
    "    else:\n",
    "        return myreduce(func,seq)\n",
    "res = myreduce(sum,(1,2,3,4,5))\n",
    "print(res)"
   ]
  },
  {
   "cell_type": "markdown",
   "metadata": {},
   "source": [
    "### Q1.2"
   ]
  },
  {
   "cell_type": "code",
   "execution_count": 2,
   "metadata": {},
   "outputs": [
    {
     "name": "stdout",
     "output_type": "stream",
     "text": [
      "('C', 'D', 'F', 'G')\n"
     ]
    }
   ],
   "source": [
    "def myfilter(func,seq):\n",
    "    return type(seq)([x for x in seq if func(x) == True])\n",
    "res = myfilter(lambda x:x.isupper(),('a','b','C','D','e','F','G','h'))\n",
    "print(res)"
   ]
  },
  {
   "cell_type": "markdown",
   "metadata": {},
   "source": [
    "### Q2"
   ]
  },
  {
   "cell_type": "code",
   "execution_count": 3,
   "metadata": {},
   "outputs": [
    {
     "name": "stdout",
     "output_type": "stream",
     "text": [
      "['x', 'xx', 'xxx', 'xxxx', 'y', 'yy', 'yyy', 'yyyy', 'z', 'zz', 'zzz', 'zzzz']\n",
      "\n",
      "['x', 'y', 'z', 'xx', 'yy', 'zz', 'xxx', 'yyy', 'zzz', 'xxxx', 'yyyy', 'zzzz']\n",
      "\n",
      "[[2], [3], [4], [3], [4], [5], [4], [5], [6]] [[2, 3, 4, 5], [3, 4, 5, 6], [4, 5, 6, 7], [5, 6, 7, 8]]\n",
      "\n",
      "[(1, 1), (2, 1), (3, 1), (1, 2), (2, 2), (3, 2), (1, 3), (2, 3), (3, 3)]\n",
      "\n"
     ]
    }
   ],
   "source": [
    "print([char*freq for char in ('x','y','z') for freq in range(1,5)],end=\"\\n\\n\")\n",
    "print([char*freq for freq in range(1,5) for char in ('x','y','z')],end=\"\\n\\n\")\n",
    "print([[x] for y in range(5,8) for x in range(y-3,y)],[[x for x in range(y,y+4)] for y in range(2,6)],end=\"\\n\\n\")\n",
    "print([(x,y) for y in (1,2,3) for x in (1,2,3)],end=\"\\n\\n\")"
   ]
  }
 ],
 "metadata": {
  "kernelspec": {
   "display_name": "Python 3",
   "language": "python",
   "name": "python3"
  },
  "language_info": {
   "codemirror_mode": {
    "name": "ipython",
    "version": 3
   },
   "file_extension": ".py",
   "mimetype": "text/x-python",
   "name": "python",
   "nbconvert_exporter": "python",
   "pygments_lexer": "ipython3",
   "version": "3.7.6"
  }
 },
 "nbformat": 4,
 "nbformat_minor": 4
}
