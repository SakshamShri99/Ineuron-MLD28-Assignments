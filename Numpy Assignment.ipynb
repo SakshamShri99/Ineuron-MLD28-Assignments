{
 "cells": [
  {
   "cell_type": "markdown",
   "metadata": {},
   "source": [
    "### Q1."
   ]
  },
  {
   "cell_type": "code",
   "execution_count": 1,
   "metadata": {},
   "outputs": [
    {
     "data": {
      "text/plain": [
       "array([[  1,   1,   1,   1],\n",
       "       [  4,   3,   2,   1],\n",
       "       [ 16,   9,   4,   1],\n",
       "       [ 64,  27,   8,   1],\n",
       "       [256,  81,  16,   1]])"
      ]
     },
     "execution_count": 1,
     "metadata": {},
     "output_type": "execute_result"
    }
   ],
   "source": [
    "import numpy as np\n",
    "def vandermonde(arr, col, inc = False):\n",
    "    vande = []\n",
    "    if inc == True:\n",
    "        for i in range(col):\n",
    "            vande.append([x**i for x in arr])\n",
    "    else:\n",
    "        for i in range(col):\n",
    "            vande.append([x**i for x in sorted(arr,reverse = True)])\n",
    "    return vande\n",
    "res = vandermonde([1,2,3,4],5,False)\n",
    "np.array(res)"
   ]
  },
  {
   "cell_type": "markdown",
   "metadata": {},
   "source": [
    "### Q2."
   ]
  },
  {
   "cell_type": "code",
   "execution_count": 2,
   "metadata": {},
   "outputs": [
    {
     "name": "stdout",
     "output_type": "stream",
     "text": [
      "y1       5.000000\n",
      "y2       4.666667\n",
      "y3       5.666667\n",
      "y4       6.666667\n",
      "y5       9.666667\n",
      "y6      28.666667\n",
      "y7      49.333333\n",
      "y8      72.666667\n",
      "y9      84.000000\n",
      "y10     93.333333\n",
      "y11    116.333333\n",
      "dtype: float64\n"
     ]
    }
   ],
   "source": [
    "import numpy as np\n",
    "import pandas as pd\n",
    "def movavg(arr, k):\n",
    "    avg = pd.Series(np.array([]))\n",
    "    for i in range(len(arr)-k+1):\n",
    "        avg[i] = sum(arr[i:i+k])/k\n",
    "    avg.index = ['y{}'.format(i) for i in range(1,len(arr)-k+2)]\n",
    "    return avg\n",
    "a = np.array([3, 5, 7, 2, 8, 10, 11, 65, 72, 81, 99, 100, 150])\n",
    "res = movavg(a,3)\n",
    "print(res)"
   ]
  }
 ],
 "metadata": {
  "kernelspec": {
   "display_name": "Python 3",
   "language": "python",
   "name": "python3"
  },
  "language_info": {
   "codemirror_mode": {
    "name": "ipython",
    "version": 3
   },
   "file_extension": ".py",
   "mimetype": "text/x-python",
   "name": "python",
   "nbconvert_exporter": "python",
   "pygments_lexer": "ipython3",
   "version": "3.7.7"
  }
 },
 "nbformat": 4,
 "nbformat_minor": 4
}
